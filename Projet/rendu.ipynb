{
  "cells": [
    {
      "cell_type": "markdown",
      "metadata": {},
      "source": [
        "# Météo Montpellier\n",
        "## Ce site affiche la météo des 4 prochains jours\n"
      ],
      "id": "94e9e89e"
    },
    {
      "cell_type": "code",
      "metadata": {},
      "source": [
        "# %%\n",
        "import sys\n",
        "print(sys.path)\n",
        "sys.path.append('C:\\\\Users\\\\abels\\\\OneDrive\\\\Bureau\\\\HAX712X\\\\Projet_Perso')\n",
        "import pooch\n",
        "import pandas as pd\n",
        "import os\n",
        "import matplotlib.pyplot as plt\n",
        "import calendar\n",
        "from Projet.io import Load\n",
        "# %%\n",
        "df_weather=Load.df_weather_raw #plus facile à manipuler\n",
        "print(df_weather)\n",
        "plt.plot(df_weather[\"Date\"],df_weather[\"Température Max\"]) #test\n",
        "plt.xlabel(\"Date\")\n",
        "plt.ylabel(\"Température en °C\")\n",
        "plt.show()\n",
        "# %%\n",
        "\n",
        "df_weather[\"Date\"][0]\n",
        "# %%\n",
        "df_weather2=df_weather.transpose() #meilleur affichage\n",
        "df_weather2"
      ],
      "id": "79bbd6fa",
      "execution_count": null,
      "outputs": []
    }
  ],
  "metadata": {
    "kernelspec": {
      "name": "python3",
      "language": "python",
      "display_name": "Python 3 (ipykernel)"
    }
  },
  "nbformat": 4,
  "nbformat_minor": 5
}